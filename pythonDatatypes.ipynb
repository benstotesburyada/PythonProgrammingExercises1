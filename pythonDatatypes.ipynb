{
 "cells": [
  {
   "cell_type": "markdown",
   "metadata": {},
   "source": [
    "# Python Datatypes\n",
    "\n",
    "1.) Integer: a whole number\n",
    "``` python\n",
    "a = 10\n",
    "b = 4\n",
    "score = 28473\n",
    "```\n",
    "Are examples of integers being assigned to variables.\n",
    "\n",
    "2.) Boolean: a value that is True or False\n",
    "\n",
    "``` python\n",
    "useMetric = True\n",
    "\n",
    "```\n",
    "Is an example of a boolean being assigned to a variable.\n",
    "\n",
    "Booleans must have a capital \"T\" in the case of being true, and a capital \"F\" in the case of being false.\n",
    "\n",
    "3.) String: a string is a set of text. It can include all characters, but needs to be in \"\" marks\n",
    "\n",
    "``` python\n",
    "text = \"This is a string\"\n",
    "```\n",
    "Is an example of a string being assigned to a variable.\n",
    "\n",
    "Always use \"\" marks instead of '' when using strings.\n",
    "\n",
    "4.) Float: a float is a decimal number\n",
    "\n",
    "``` python\n",
    "c = 4.2\n",
    "d = 298347.231231513652\n",
    "```\n",
    "Are examples of floats being assigned to variables."
   ]
  },
  {
   "cell_type": "code",
   "execution_count": null,
   "metadata": {},
   "outputs": [],
   "source": []
  }
 ],
 "metadata": {
  "kernelspec": {
   "display_name": "Python 3",
   "language": "python",
   "name": "python3"
  },
  "language_info": {
   "codemirror_mode": {
    "name": "ipython",
    "version": 3
   },
   "file_extension": ".py",
   "mimetype": "text/x-python",
   "name": "python",
   "nbconvert_exporter": "python",
   "pygments_lexer": "ipython3",
   "version": "3.5.2"
  }
 },
 "nbformat": 4,
 "nbformat_minor": 2
}
