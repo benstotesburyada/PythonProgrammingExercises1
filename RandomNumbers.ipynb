{
 "cells": [
  {
   "cell_type": "markdown",
   "metadata": {},
   "source": [
    "# Random Numbers in Python\n",
    "\n",
    "Python has a library (import random) for generating random numbers because it cannot create random numbers natively.\n",
    "\n",
    "2 ways to immport:\n",
    "\n",
    "1.) The whole module\n",
    "```python\n",
    "import random\n",
    "num = random.randint(1, 10)\n",
    "print('your random number is ', num)\n",
    "\n",
    "``` \n",
    "2.) individual functions\n",
    "```python\n",
    "\n",
    "```"
   ]
  },
  {
   "cell_type": "code",
   "execution_count": 13,
   "metadata": {},
   "outputs": [
    {
     "name": "stdout",
     "output_type": "stream",
     "text": [
      "your random number is  10\n"
     ]
    }
   ],
   "source": [
    "#import whole module\n",
    "import random\n",
    "num = random.randint(1, 10)\n",
    "print('your random number is ', num)"
   ]
  },
  {
   "cell_type": "code",
   "execution_count": 11,
   "metadata": {},
   "outputs": [
    {
     "name": "stdout",
     "output_type": "stream",
     "text": [
      "your random number is  4\n"
     ]
    }
   ],
   "source": [
    "#import specific function\n",
    "from random import randint\n",
    "num = randint(1, 10)\n",
    "print('your random number is ', num)"
   ]
  },
  {
   "cell_type": "code",
   "execution_count": 266,
   "metadata": {},
   "outputs": [
    {
     "data": {
      "text/plain": [
       "95"
      ]
     },
     "execution_count": 266,
     "metadata": {},
     "output_type": "execute_result"
    }
   ],
   "source": [
    "#\n",
    "random.randrange(0,100,1)"
   ]
  }
 ],
 "metadata": {
  "kernelspec": {
   "display_name": "Python 3",
   "language": "python",
   "name": "python3"
  },
  "language_info": {
   "codemirror_mode": {
    "name": "ipython",
    "version": 3
   },
   "file_extension": ".py",
   "mimetype": "text/x-python",
   "name": "python",
   "nbconvert_exporter": "python",
   "pygments_lexer": "ipython3",
   "version": "3.5.2"
  }
 },
 "nbformat": 4,
 "nbformat_minor": 2
}
