{
 "cells": [
  {
   "cell_type": "markdown",
   "metadata": {},
   "source": [
    "# While loops in python\n",
    "\n",
    "I - Initiliase (start) our loop variable\n",
    "\n",
    "T - Test our loop variable (test the condition)\n",
    "\n",
    "C - Change the loop variable"
   ]
  },
  {
   "cell_type": "code",
   "execution_count": 3,
   "metadata": {},
   "outputs": [
    {
     "name": "stdout",
     "output_type": "stream",
     "text": [
      "Do you want to continue? Press S to stop.s\n"
     ]
    }
   ],
   "source": [
    "loopVar = \"x\" #initialise\n",
    "while loopVar != \"s\": #test\n",
    "    loopVar = input(\"Do you want to continue? Press S to stop.\").lower() #change"
   ]
  },
  {
   "cell_type": "code",
   "execution_count": 154,
   "metadata": {},
   "outputs": [
    {
     "name": "stdout",
     "output_type": "stream",
     "text": [
      "You did not win this time but you have  4  lives left\n",
      "You did not win this time but you have  3  lives left\n",
      "You did not win this time but you have  2  lives left\n",
      "You did not win this time but you have  1  lives left\n",
      "You did not win this time but you have  0  lives left\n",
      "Sorry, you have lost the game.\n"
     ]
    }
   ],
   "source": [
    "import random\n",
    "\n",
    "won = False #at the start the game has not been won\n",
    "lives = 5 #lives start with 5\n",
    "\n",
    "while not won and lives > 0:\n",
    "    lives = lives - 1 #lose a life on each round\n",
    "    x = random.randint(0,10)\n",
    "    if x == 5 or x==7 or x==2:\n",
    "        won = True\n",
    "        print(\"You have won this round!\")\n",
    "    else:\n",
    "        print(\"You did not win this time but you have \", lives, \" lives left\")\n",
    "        \n",
    "#after the loop is finished this code runs\n",
    "\n",
    "if lives == 0:\n",
    "    print(\"Sorry, you have lost the game.\")\n"
   ]
  }
 ],
 "metadata": {
  "kernelspec": {
   "display_name": "Python 3",
   "language": "python",
   "name": "python3"
  },
  "language_info": {
   "codemirror_mode": {
    "name": "ipython",
    "version": 3
   },
   "file_extension": ".py",
   "mimetype": "text/x-python",
   "name": "python",
   "nbconvert_exporter": "python",
   "pygments_lexer": "ipython3",
   "version": "3.5.2"
  }
 },
 "nbformat": 4,
 "nbformat_minor": 2
}
