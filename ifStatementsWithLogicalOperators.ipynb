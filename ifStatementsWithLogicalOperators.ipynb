{
 "cells": [
  {
   "cell_type": "markdown",
   "metadata": {},
   "source": [
    "# Task 2: Write IF statements using the correc t logical operator to test the following:"
   ]
  },
  {
   "cell_type": "code",
   "execution_count": 6,
   "metadata": {},
   "outputs": [
    {
     "name": "stdout",
     "output_type": "stream",
     "text": [
      "You can enter the movie\n"
     ]
    }
   ],
   "source": [
    "#Allow entry to a movie if the user is older than 18 or if they are accompanied by an adult\n",
    "user = 17\n",
    "withAdult = True\n",
    "\n",
    "if user >= 18 or withAdult == True:\n",
    "    print(\"You can enter the movie\")\n",
    "else:\n",
    "    print(\"You cannot enter the movie\")"
   ]
  },
  {
   "cell_type": "code",
   "execution_count": 9,
   "metadata": {},
   "outputs": [
    {
     "name": "stdout",
     "output_type": "stream",
     "text": [
      "You cannot enter the party because you do not like pizza\n"
     ]
    }
   ],
   "source": [
    "#Allow the user to come to your party if they are a boy and they like pizza\n",
    "isBoy = True\n",
    "likesPizza = False\n",
    "\n",
    "if isBoy == True and likesPizza == True:\n",
    "    print(\"You can enter the party because you are a boy and you like pizza\")\n",
    "elif isBoy== True and likesPizza == False:\n",
    "    print(\"You cannot enter the party because you do not like pizza\")\n",
    "else:\n",
    "    print(\"You cannot enter the party because you are a girl\")"
   ]
  },
  {
   "cell_type": "code",
   "execution_count": 14,
   "metadata": {},
   "outputs": [
    {
     "name": "stdout",
     "output_type": "stream",
     "text": [
      "You do not need to take an umbrella because the temperature is not higher than 17 and the chance of rain is higher than 80%\n"
     ]
    }
   ],
   "source": [
    "#Remind he user tot ake an umbrella if themperature is higher than 17 and the chance of rain is higher than 80%\n",
    "chanceOfRain = 85\n",
    "temperature = 18\n",
    "\n",
    "if chanceOfRain < 80 and temperature <= 18:\n",
    "    print(\"You should take an umbrella because the chance of rain is more than 80% and the temperature is above 17. \")\n",
    "else:\n",
    "    print(\"You do not need to take an umbrella because the temperature is not higher than 17 and the chance of rain is higher than 80%\")"
   ]
  }
 ],
 "metadata": {
  "kernelspec": {
   "display_name": "Python 3",
   "language": "python",
   "name": "python3"
  },
  "language_info": {
   "codemirror_mode": {
    "name": "ipython",
    "version": 3
   },
   "file_extension": ".py",
   "mimetype": "text/x-python",
   "name": "python",
   "nbconvert_exporter": "python",
   "pygments_lexer": "ipython3",
   "version": "3.5.2"
  }
 },
 "nbformat": 4,
 "nbformat_minor": 2
}
