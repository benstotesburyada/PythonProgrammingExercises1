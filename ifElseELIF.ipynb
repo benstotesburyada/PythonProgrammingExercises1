{
 "cells": [
  {
   "cell_type": "markdown",
   "metadata": {
    "collapsed": true
   },
   "source": [
    "# IF/ELSE/ELIF Statements\n",
    "\n",
    "``` python\n",
    "name = 'fred'\n",
    "age = 12\n",
    "if age > 10:\n",
    "#If the 'age' variable is less than 10, the program will print \"you are too young\"\n",
    "print('you are too young')\n",
    "else:\n",
    "print('you are old enough')\n",
    "```"
   ]
  },
  {
   "cell_type": "markdown",
   "metadata": {},
   "source": [
    "``` python\n",
    "name = 'fred'\n",
    "age = 12\n",
    "#checks if age is equal to 10, if true prints \"you are too young\" else moves to next line\n",
    "if age == 10:\n",
    "print('you are too young')\n",
    "#checks if age is equal to 11, if true prints \"you are still too young\" else moves to next line\n",
    "elif age == 11:\n",
    "print('you are still too young')\n",
    "#checks if age is equal to 12, if true prints \"you are exactly old enough\" else moves to next line\n",
    "elif age == 12:\n",
    "\tprint('you are exactly old enough')\n",
    "#if none of the above is true, prints final line\n",
    "else:\n",
    "\tprint('You are more than old enough')\n",
    "#program ends\n",
    "```"
   ]
  },
  {
   "cell_type": "markdown",
   "metadata": {},
   "source": [
    "``` python\n",
    "name = 'fred'\n",
    "age = 12\n",
    "wonGame = False\n",
    "\n",
    "#checks if age is more than 10 and if name is equal to \"fred\", if true prints \"you are my favourite!!\"\n",
    "if age > 10 and name == 'fred':\n",
    "  print('you are my favourite!!')\n",
    "#if not true prints \"not quite there\"\n",
    "else:\n",
    "  print('not quite there')\n",
    "\n",
    "#checks if age is less than 100 but more than 50\n",
    "#if true prints \"Age is between 50 and 100\"\n",
    "if (age < 100) and age >50 :\n",
    "  print('Age is between 50 and and 100')\n",
    "\n",
    "#when you test Booleans you don’t have to check equality to True or False\n",
    "#they ARE True or False themselves\n",
    "if not wonGame:\n",
    "  print('Sorry you lost')\n",
    "\n",
    "\n",
    "```"
   ]
  }
 ],
 "metadata": {
  "kernelspec": {
   "display_name": "Python 3",
   "language": "python",
   "name": "python3"
  },
  "language_info": {
   "codemirror_mode": {
    "name": "ipython",
    "version": 3
   },
   "file_extension": ".py",
   "mimetype": "text/x-python",
   "name": "python",
   "nbconvert_exporter": "python",
   "pygments_lexer": "ipython3",
   "version": "3.5.2"
  }
 },
 "nbformat": 4,
 "nbformat_minor": 2
}
