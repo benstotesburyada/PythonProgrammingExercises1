{
 "cells": [
  {
   "cell_type": "markdown",
   "metadata": {},
   "source": [
    "# Weather Based if Statement"
   ]
  },
  {
   "cell_type": "code",
   "execution_count": 17,
   "metadata": {},
   "outputs": [
    {
     "name": "stdout",
     "output_type": "stream",
     "text": [
      "It is sunny and warm, make sure to wear cool clothes.\n"
     ]
    }
   ],
   "source": [
    "temperature = 20\n",
    "isRaining = False\n",
    "\n",
    "if temperature >= 20 and isRaining == False:\n",
    "    print(\"It is sunny and warm, make sure to wear cool clothes.\")\n",
    "elif temperature >=20 and isRaining == True:\n",
    "    print(\"It is warm but it is raining, wear cool clothes but take an umbrella\")\n",
    "elif temperature < 20 and isRaining == True:\n",
    "    print(\"It is cold and raining, wear warm clothes and take an umbrella.\")\n",
    "else:\n",
    "    print(\"It is cold but not raining, wear warm clothes but an umbrella is not necessary\")"
   ]
  }
 ],
 "metadata": {
  "kernelspec": {
   "display_name": "Python 3",
   "language": "python",
   "name": "python3"
  },
  "language_info": {
   "codemirror_mode": {
    "name": "ipython",
    "version": 3
   },
   "file_extension": ".py",
   "mimetype": "text/x-python",
   "name": "python",
   "nbconvert_exporter": "python",
   "pygments_lexer": "ipython3",
   "version": "3.5.2"
  }
 },
 "nbformat": 4,
 "nbformat_minor": 2
}
